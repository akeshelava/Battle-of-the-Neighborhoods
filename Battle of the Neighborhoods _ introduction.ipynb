{
 "cells": [
  {
   "cell_type": "markdown",
   "metadata": {},
   "source": [
    "# Battle of the Neighborhoods: Vancouver vs Toronto"
   ]
  },
  {
   "cell_type": "markdown",
   "metadata": {},
   "source": [
    "## 1. Introduction"
   ]
  },
  {
   "cell_type": "markdown",
   "metadata": {},
   "source": [
    "This project will analyze neighborhoods between Vancouver, BC and Toronto, ON Canada. An IT startup company is looking to move its office from New York City to either Vancouver or Toronto. The company needs to determine which city better suits the living standards of its employees, and alongside with  office rentals it is considering the overall attractiveness of the  neighborhoods and local businesses in the cities.  In this project we will explore and compare the central neighborhoods in the two cities, and determine which neighborhoods best fit the living habits and culture of the IT company’s employees. The highest-rated by the employees is the easy access to various food places, gyms and parks, and this shall be taken into consideration when choosing the destination city. "
   ]
  },
  {
   "cell_type": "markdown",
   "metadata": {},
   "source": [
    "## 2. Data\n"
   ]
  },
  {
   "cell_type": "markdown",
   "metadata": {},
   "source": [
    "The data used for the project will be acquired through the wikipedia and the respective cities' web-sites. We will be using geopy to find the coordinates for each neighborhood. Foursquare API will be used then to collect information on the neighborhood venues. \n",
    "\n",
    "The following data sources will be used in this project:\n",
    "\n",
    "Vancouver data: https://opendata.vancouver.ca/explore/dataset/local-area-boundary/export/                    \n",
    "Toronto data: https://en.wikipedia.org/wiki/List_of_postal_codes_of_Canada:_M' ; http://cocl.us/Geospatial_data\n"
   ]
  },
  {
   "cell_type": "markdown",
   "metadata": {},
   "source": [
    "## 3. Methodology\n",
    "\n",
    "After the data is collected, it will be processed into pandas dataframes and explored. \n",
    "Folium Python visualisation lubrary will be used to visualize the neighborhoods distribution over the maps of the two cities. \n",
    "Extensive comparative analysis of the central neighborhoods of the two cities will be performed, Downtown Vancouver and Central Toronto, respectively. \n",
    "Finally, unsupervised machine learning algorithm k-means clustering will be applied to form the clusters of different categories of places in the above neighborhoods and visualize the data. On the basis of the clustering, results will be discussed and recommendations will be made."
   ]
  },
  {
   "cell_type": "code",
   "execution_count": null,
   "metadata": {},
   "outputs": [],
   "source": []
  }
 ],
 "metadata": {
  "kernelspec": {
   "display_name": "Python",
   "language": "python",
   "name": "conda-env-python-py"
  },
  "language_info": {
   "codemirror_mode": {
    "name": "ipython",
    "version": 3
   },
   "file_extension": ".py",
   "mimetype": "text/x-python",
   "name": "python",
   "nbconvert_exporter": "python",
   "pygments_lexer": "ipython3",
   "version": "3.6.11"
  }
 },
 "nbformat": 4,
 "nbformat_minor": 4
}
