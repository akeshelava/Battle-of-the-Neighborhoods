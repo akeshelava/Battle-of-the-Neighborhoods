{
 "cells": [
  {
   "cell_type": "markdown",
   "metadata": {},
   "source": [
    "# Battle of the Neighborhoods: Vancouver vs Toronto"
   ]
  },
  {
   "cell_type": "markdown",
   "metadata": {},
   "source": [
    "## 1. Introduction"
   ]
  },
  {
   "cell_type": "markdown",
   "metadata": {},
   "source": [
    "This project will analyze neighborhoods between Vancouver, BC and Toronto, ON Canada. An IT startup company is looking to move its office from New York City to either Vancouver or Toronto. The company needs to determine which city better suits the living standards of its employees, and alongside with  office rentals it is considering the overall attractiveness of the  neighborhoods and local businesses in the cities.  In this project we will explore and compare the central neighborhoods in the two cities, and determine which neighborhoods best fit the living habits and culture of the IT company’s employees. The highest-rated by the employees is the easy access to various food places, gyms and parks, and this shall be taken into consideration when choosing the destination city. "
   ]
  },
  {
   "cell_type": "markdown",
   "metadata": {},
   "source": [
    "## 2. Data\n"
   ]
  },
  {
   "cell_type": "markdown",
   "metadata": {},
   "source": [
    "The data used for the project will be acquired through the wikipedia and the respective cities' web-sites. We will be using geopy to find the coordinates for each neighborhood. Foursquare API will be used then to collect information on the neighborhood venues. \n",
    "\n",
    "The following data sources will be used in this project:\n",
    "\n",
    "Vancouver data: https://opendata.vancouver.ca/explore/dataset/local-area-boundary/export/                    \n",
    "Toronto data: https://en.wikipedia.org/wiki/List_of_postal_codes_of_Canada:_M' ; http://cocl.us/Geospatial_data\n"
   ]
  },
  {
   "cell_type": "markdown",
   "metadata": {},
   "source": [
    "## 3. Methodology\n",
    "\n",
    "After the data is collected, it will be processed into pandas dataframes and explored. The Geopy library will be used to collect the geographical coordinates of Vancouver and Toronto. In order to have a clear idea on the number and distribution of the neighborhoods in the cities, Folium Python visualisation library will be imported to visualize the neighborhoods distribution over the maps of the two cities. These maps will be also used to decide which neighborhoods of the cities will be sliced for further analysis taking into consideration that the company that has requested the analysis  prefers to establish its office in the downtown area.\n",
    "\n",
    "\n",
    "An exhaustive analysis of the two cities will be performed, Downtown Vancouver and Central Toronto, respectively, exploring the number and categories of the venues in the central neighborhoods of the two cities. Onehot encoding will be used to analyze each of the neighborhoods, and 10 top venues for each neighborhood will be obtained.\n",
    "\n",
    "\n",
    "Finally, unsupervised machine learning algorithm k-means clustering will be applied to form the clusters of different categories of places in the above neighborhoods and visualize the data. On the basis of the clustering, results will be discussed and recommendations will be made.\n",
    "\n"
   ]
  },
  {
   "cell_type": "markdown",
   "metadata": {},
   "source": [
    "## 4. Results"
   ]
  },
  {
   "cell_type": "markdown",
   "metadata": {},
   "source": [
    "In the case of Vancouver, out of total 22 neighborhoods, it was decided to focus our analysis on 8 neighborhoods in the downtown Vancouver, namely:  Kitsilano, Mount Pleasant, Downtown, West Point Grey, Fairview, Grandview-Woodland,  Strathcona and West end. In Toronto, the Central Toronto area included the following neighborhoods (grouped into 9 groups on the basis of their postal codes: Davisville, Davisville North, Forest Hill, Lawrence PArk, Moore Park, North Toronto West, Roselawn,  Summerhill West, The Annex, North Midtown, Yorkville. The rest of the neighborhoods were dropped from the dataframe and did not participate in the analysis. \n",
    "\n",
    "We used the k-means algorithm to cluster the Downtown Vancouver neighborhoods in 3 clusters. Cluster_0 has 6 neighborhoods where the most common venues are coffee-shops, different food places and parks. Cluster_1 has only one neighborhood which has a lot of places to eat, but no gym. Cluster_2 also has only one neighborhood with prevailing coffee-shops and restaurants, but no gyms. Altogether, there are total of 306 venues in 8 Downtown Vancouver neighborhoods. Obviously, there are plenty of places to eat in all three clusters, but only 7 parks and 3 gyms, all of which are concentrated in cluster_0.\n",
    "\n",
    "The clustering in Central Toronto is very similar to the one in Downtown Vancouver. We used the k-means algorithm to cluster the Central Toronto neighborhoods into 3 clusters. Cluster_0 has 7 neighborhoods where the most common values are coffee-shops, different food places and restaurants. Cluster_1 has only one neighborhood which has a garden and a pool and no places to eat and no gyms. Cluster_2 also has only one neighborhood with one gym, but no food places. Altogether, there are total of 109 venues in 9 Central Toronto neighborhoods, out of which most are different restaurants and food places; there are 6 parks and 3 gyms."
   ]
  },
  {
   "cell_type": "markdown",
   "metadata": {},
   "source": [
    "## 5. Discussion"
   ]
  },
  {
   "cell_type": "markdown",
   "metadata": {},
   "source": [
    "The segmentation and clustering of the cities of Vancouver and Toronto provided very similar results. In the central parts of the cities, 8 neighborhoods were compared and analyzed in Vancouver and 9 in Toronto. According to the data provided by Foursquare, there are 306 venues in Vancouver and 109 in Toronto, the venue categories being very similar, with prevailing coffee shops, different kinds of restaurants and places to eat, entertainment, parks etc. The clustering of the two cities also showed similar results, where most of the neighborhoods were clustered in one cluster (6 in Vancouver and 7 in Toronto) with the remaining two clusters having one neighborhood each. "
   ]
  },
  {
   "cell_type": "markdown",
   "metadata": {},
   "source": [
    "## 6. Conclusion and Recommendations"
   ]
  },
  {
   "cell_type": "markdown",
   "metadata": {},
   "source": [
    "As already mentioned, the data analysis has produced very similar results for the two cities in terms of variety of venues and homogenity. However, since there are considerably more venues in Downtown Vancouver (306) as compared to Central Toronto (109), our recommendation to the IT startup will be to move the office to one of the neighborhoods shown in cluster_0 in Downtown Vancouver, since they are most closely fitting into their requirement of having an easy access to various food places, gyms and parks. "
   ]
  },
  {
   "cell_type": "code",
   "execution_count": null,
   "metadata": {},
   "outputs": [],
   "source": []
  }
 ],
 "metadata": {
  "kernelspec": {
   "display_name": "Python",
   "language": "python",
   "name": "conda-env-python-py"
  },
  "language_info": {
   "codemirror_mode": {
    "name": "ipython",
    "version": 3
   },
   "file_extension": ".py",
   "mimetype": "text/x-python",
   "name": "python",
   "nbconvert_exporter": "python",
   "pygments_lexer": "ipython3",
   "version": "3.6.11"
  }
 },
 "nbformat": 4,
 "nbformat_minor": 4
}
